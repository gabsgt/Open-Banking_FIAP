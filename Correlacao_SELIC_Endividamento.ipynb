{
  "nbformat": 4,
  "nbformat_minor": 0,
  "metadata": {
    "colab": {
      "name": "selic_dividas.ipynb",
      "provenance": [],
      "collapsed_sections": [],
      "mount_file_id": "1IHJNl5vQsk_ekFimhdPMJvdelQQ8i2Vq",
      "authorship_tag": "ABX9TyMYIrLH0GT6GM1kHUxVoeYY",
      "include_colab_link": true
    },
    "kernelspec": {
      "name": "python3",
      "display_name": "Python 3"
    },
    "language_info": {
      "name": "python"
    }
  },
  "cells": [
    {
      "cell_type": "markdown",
      "metadata": {
        "id": "view-in-github",
        "colab_type": "text"
      },
      "source": [
        "<a href=\"https://colab.research.google.com/github/gabsgt/Open-Banking_FIAP/blob/main/Correlacao_SELIC_Endividamento.ipynb\" target=\"_parent\"><img src=\"https://colab.research.google.com/assets/colab-badge.svg\" alt=\"Open In Colab\"/></a>"
      ]
    },
    {
      "cell_type": "markdown",
      "metadata": {
        "id": "j53trnt2H1AP"
      },
      "source": [
        "# Entender se existe alguma relação entre a taxa de juros SELIC e a % de endividamento das famílias brasileiras.\n",
        "\n",
        "### Datasets utilizados: \n",
        "- Endividamento: http://api.bcb.gov.br/dados/serie/bcdata.sgs.19882/dados?formato=csv\n",
        "\n",
        "- SELIC: https://dadosabertos.bcb.gov.br/dataset/11-taxa-de-juros---selic/resource/3d751a0d-afb2-452b-83f2-310a201f8a82"
      ]
    },
    {
      "cell_type": "markdown",
      "metadata": {
        "id": "aRKbxP7RIshA"
      },
      "source": [
        "### Habilitando a importação dos dados através do drive"
      ]
    },
    {
      "cell_type": "code",
      "metadata": {
        "colab": {
          "base_uri": "https://localhost:8080/"
        },
        "id": "PFc-QI8Piefu",
        "outputId": "9487f2d5-3148-4b3b-d4c3-742ad50219b6"
      },
      "source": [
        "from google.colab import drive\n",
        "drive.mount('/content/drive')"
      ],
      "execution_count": null,
      "outputs": [
        {
          "output_type": "stream",
          "text": [
            "Mounted at /content/drive\n"
          ],
          "name": "stdout"
        }
      ]
    },
    {
      "cell_type": "code",
      "metadata": {
        "colab": {
          "base_uri": "https://localhost:8080/"
        },
        "id": "NR-xiX86imwm",
        "outputId": "87fe0b46-fefc-430f-eab3-b8731e47bf99"
      },
      "source": [
        "with open('/content/drive/My Drive/foo.txt', 'w') as f:\n",
        "  f.write('Hello Google Drive!')\n",
        "!cat /content/drive/My\\ Drive/foo.txt"
      ],
      "execution_count": null,
      "outputs": [
        {
          "output_type": "stream",
          "text": [
            "Hello Google Drive!"
          ],
          "name": "stdout"
        }
      ]
    },
    {
      "cell_type": "code",
      "metadata": {
        "colab": {
          "base_uri": "https://localhost:8080/"
        },
        "id": "dCvjiWbmiqJg",
        "outputId": "f47075ab-14d3-4251-e483-a48b9f7f617c"
      },
      "source": [
        "drive.flush_and_unmount()\n",
        "print('All changes made in this colab session should now be visible in Drive.')"
      ],
      "execution_count": null,
      "outputs": [
        {
          "output_type": "stream",
          "text": [
            "All changes made in this colab session should now be visible in Drive.\n"
          ],
          "name": "stdout"
        }
      ]
    },
    {
      "cell_type": "markdown",
      "metadata": {
        "id": "IqPIJjGIIwMw"
      },
      "source": [
        "### Importando as bibliotecas que serão utilizadas:\n",
        "\n"
      ]
    },
    {
      "cell_type": "code",
      "metadata": {
        "id": "2GnbWsFIKT84"
      },
      "source": [
        "import pandas as pd\n",
        "import seaborn as sns\n",
        "from matplotlib import pyplot as plt\n",
        "import numpy as np\n",
        "from sklearn import preprocessing\n",
        "\n",
        "sns.set()"
      ],
      "execution_count": null,
      "outputs": []
    },
    {
      "cell_type": "markdown",
      "metadata": {
        "id": "kE6smusPJNxk"
      },
      "source": [
        "### Importando os dados"
      ]
    },
    {
      "cell_type": "code",
      "metadata": {
        "colab": {
          "base_uri": "https://localhost:8080/",
          "height": 204
        },
        "id": "xLtNKQ8_KHde",
        "outputId": "998dbcfa-d5b6-4233-9c82-d9c8f5822e6e"
      },
      "source": [
        "url_dividas = '/content/drive/MyDrive/FIAP - Atividades/Fase 4 - Open Banking/dividas_familiar.csv'\n",
        "dividas = pd.read_csv(url_dividas, sep = ';', decimal=',')\n",
        "dividas.head()"
      ],
      "execution_count": null,
      "outputs": [
        {
          "output_type": "execute_result",
          "data": {
            "text/html": [
              "<div>\n",
              "<style scoped>\n",
              "    .dataframe tbody tr th:only-of-type {\n",
              "        vertical-align: middle;\n",
              "    }\n",
              "\n",
              "    .dataframe tbody tr th {\n",
              "        vertical-align: top;\n",
              "    }\n",
              "\n",
              "    .dataframe thead th {\n",
              "        text-align: right;\n",
              "    }\n",
              "</style>\n",
              "<table border=\"1\" class=\"dataframe\">\n",
              "  <thead>\n",
              "    <tr style=\"text-align: right;\">\n",
              "      <th></th>\n",
              "      <th>data</th>\n",
              "      <th>valor</th>\n",
              "    </tr>\n",
              "  </thead>\n",
              "  <tbody>\n",
              "    <tr>\n",
              "      <th>0</th>\n",
              "      <td>01/01/2005</td>\n",
              "      <td>19.32</td>\n",
              "    </tr>\n",
              "    <tr>\n",
              "      <th>1</th>\n",
              "      <td>01/02/2005</td>\n",
              "      <td>19.69</td>\n",
              "    </tr>\n",
              "    <tr>\n",
              "      <th>2</th>\n",
              "      <td>01/03/2005</td>\n",
              "      <td>20.11</td>\n",
              "    </tr>\n",
              "    <tr>\n",
              "      <th>3</th>\n",
              "      <td>01/04/2005</td>\n",
              "      <td>20.55</td>\n",
              "    </tr>\n",
              "    <tr>\n",
              "      <th>4</th>\n",
              "      <td>01/05/2005</td>\n",
              "      <td>20.94</td>\n",
              "    </tr>\n",
              "  </tbody>\n",
              "</table>\n",
              "</div>"
            ],
            "text/plain": [
              "         data  valor\n",
              "0  01/01/2005  19.32\n",
              "1  01/02/2005  19.69\n",
              "2  01/03/2005  20.11\n",
              "3  01/04/2005  20.55\n",
              "4  01/05/2005  20.94"
            ]
          },
          "metadata": {
            "tags": []
          },
          "execution_count": 74
        }
      ]
    },
    {
      "cell_type": "code",
      "metadata": {
        "colab": {
          "base_uri": "https://localhost:8080/",
          "height": 204
        },
        "id": "BgmAjlMIKaY4",
        "outputId": "2e1e2329-d72e-4813-9e8a-7710122dcc54"
      },
      "source": [
        "url_selic = '/content/drive/MyDrive/FIAP - Atividades/Fase 4 - Open Banking/selic.csv'\n",
        "selic = pd.read_csv(url_selic, sep=';', decimal=',')\n",
        "selic.head()"
      ],
      "execution_count": null,
      "outputs": [
        {
          "output_type": "execute_result",
          "data": {
            "text/html": [
              "<div>\n",
              "<style scoped>\n",
              "    .dataframe tbody tr th:only-of-type {\n",
              "        vertical-align: middle;\n",
              "    }\n",
              "\n",
              "    .dataframe tbody tr th {\n",
              "        vertical-align: top;\n",
              "    }\n",
              "\n",
              "    .dataframe thead th {\n",
              "        text-align: right;\n",
              "    }\n",
              "</style>\n",
              "<table border=\"1\" class=\"dataframe\">\n",
              "  <thead>\n",
              "    <tr style=\"text-align: right;\">\n",
              "      <th></th>\n",
              "      <th>data</th>\n",
              "      <th>valor</th>\n",
              "    </tr>\n",
              "  </thead>\n",
              "  <tbody>\n",
              "    <tr>\n",
              "      <th>0</th>\n",
              "      <td>01/01/2011</td>\n",
              "      <td>0.86</td>\n",
              "    </tr>\n",
              "    <tr>\n",
              "      <th>1</th>\n",
              "      <td>01/02/2011</td>\n",
              "      <td>0.84</td>\n",
              "    </tr>\n",
              "    <tr>\n",
              "      <th>2</th>\n",
              "      <td>01/03/2011</td>\n",
              "      <td>0.92</td>\n",
              "    </tr>\n",
              "    <tr>\n",
              "      <th>3</th>\n",
              "      <td>01/04/2011</td>\n",
              "      <td>0.84</td>\n",
              "    </tr>\n",
              "    <tr>\n",
              "      <th>4</th>\n",
              "      <td>01/05/2011</td>\n",
              "      <td>0.99</td>\n",
              "    </tr>\n",
              "  </tbody>\n",
              "</table>\n",
              "</div>"
            ],
            "text/plain": [
              "         data  valor\n",
              "0  01/01/2011   0.86\n",
              "1  01/02/2011   0.84\n",
              "2  01/03/2011   0.92\n",
              "3  01/04/2011   0.84\n",
              "4  01/05/2011   0.99"
            ]
          },
          "metadata": {
            "tags": []
          },
          "execution_count": 76
        }
      ]
    },
    {
      "cell_type": "markdown",
      "metadata": {
        "id": "eUDfQEq0JXsR"
      },
      "source": [
        "### Agrupando os dois datasets"
      ]
    },
    {
      "cell_type": "code",
      "metadata": {
        "colab": {
          "base_uri": "https://localhost:8080/",
          "height": 204
        },
        "id": "sxbtVj0yLiap",
        "outputId": "74ff1f11-9f41-4725-c0ef-30ea4b940d57"
      },
      "source": [
        "merged = pd.merge(selic, dividas, on=['data', 'data'])\n",
        "merged.head()"
      ],
      "execution_count": null,
      "outputs": [
        {
          "output_type": "execute_result",
          "data": {
            "text/html": [
              "<div>\n",
              "<style scoped>\n",
              "    .dataframe tbody tr th:only-of-type {\n",
              "        vertical-align: middle;\n",
              "    }\n",
              "\n",
              "    .dataframe tbody tr th {\n",
              "        vertical-align: top;\n",
              "    }\n",
              "\n",
              "    .dataframe thead th {\n",
              "        text-align: right;\n",
              "    }\n",
              "</style>\n",
              "<table border=\"1\" class=\"dataframe\">\n",
              "  <thead>\n",
              "    <tr style=\"text-align: right;\">\n",
              "      <th></th>\n",
              "      <th>data</th>\n",
              "      <th>valor_x</th>\n",
              "      <th>valor_y</th>\n",
              "    </tr>\n",
              "  </thead>\n",
              "  <tbody>\n",
              "    <tr>\n",
              "      <th>0</th>\n",
              "      <td>01/01/2011</td>\n",
              "      <td>0.86</td>\n",
              "      <td>40.88</td>\n",
              "    </tr>\n",
              "    <tr>\n",
              "      <th>1</th>\n",
              "      <td>01/02/2011</td>\n",
              "      <td>0.84</td>\n",
              "      <td>41.06</td>\n",
              "    </tr>\n",
              "    <tr>\n",
              "      <th>2</th>\n",
              "      <td>01/03/2011</td>\n",
              "      <td>0.92</td>\n",
              "      <td>41.90</td>\n",
              "    </tr>\n",
              "    <tr>\n",
              "      <th>3</th>\n",
              "      <td>01/04/2011</td>\n",
              "      <td>0.84</td>\n",
              "      <td>41.99</td>\n",
              "    </tr>\n",
              "    <tr>\n",
              "      <th>4</th>\n",
              "      <td>01/05/2011</td>\n",
              "      <td>0.99</td>\n",
              "      <td>42.28</td>\n",
              "    </tr>\n",
              "  </tbody>\n",
              "</table>\n",
              "</div>"
            ],
            "text/plain": [
              "         data  valor_x  valor_y\n",
              "0  01/01/2011     0.86    40.88\n",
              "1  01/02/2011     0.84    41.06\n",
              "2  01/03/2011     0.92    41.90\n",
              "3  01/04/2011     0.84    41.99\n",
              "4  01/05/2011     0.99    42.28"
            ]
          },
          "metadata": {
            "tags": []
          },
          "execution_count": 78
        }
      ]
    },
    {
      "cell_type": "code",
      "metadata": {
        "id": "kYf5psU2N-Fm"
      },
      "source": [
        "merged.rename(columns={'valor_x': 'selic', 'valor_y': 'endividamento'}, inplace=True)"
      ],
      "execution_count": null,
      "outputs": []
    },
    {
      "cell_type": "code",
      "metadata": {
        "colab": {
          "base_uri": "https://localhost:8080/",
          "height": 204
        },
        "id": "aFQvA9GDQBBP",
        "outputId": "70e2b1e9-b906-4f4d-8ed6-ba123cf7c206"
      },
      "source": [
        "merged.head()"
      ],
      "execution_count": null,
      "outputs": [
        {
          "output_type": "execute_result",
          "data": {
            "text/html": [
              "<div>\n",
              "<style scoped>\n",
              "    .dataframe tbody tr th:only-of-type {\n",
              "        vertical-align: middle;\n",
              "    }\n",
              "\n",
              "    .dataframe tbody tr th {\n",
              "        vertical-align: top;\n",
              "    }\n",
              "\n",
              "    .dataframe thead th {\n",
              "        text-align: right;\n",
              "    }\n",
              "</style>\n",
              "<table border=\"1\" class=\"dataframe\">\n",
              "  <thead>\n",
              "    <tr style=\"text-align: right;\">\n",
              "      <th></th>\n",
              "      <th>data</th>\n",
              "      <th>selic</th>\n",
              "      <th>endividamento</th>\n",
              "    </tr>\n",
              "  </thead>\n",
              "  <tbody>\n",
              "    <tr>\n",
              "      <th>0</th>\n",
              "      <td>01/01/2011</td>\n",
              "      <td>0.86</td>\n",
              "      <td>40.88</td>\n",
              "    </tr>\n",
              "    <tr>\n",
              "      <th>1</th>\n",
              "      <td>01/02/2011</td>\n",
              "      <td>0.84</td>\n",
              "      <td>41.06</td>\n",
              "    </tr>\n",
              "    <tr>\n",
              "      <th>2</th>\n",
              "      <td>01/03/2011</td>\n",
              "      <td>0.92</td>\n",
              "      <td>41.90</td>\n",
              "    </tr>\n",
              "    <tr>\n",
              "      <th>3</th>\n",
              "      <td>01/04/2011</td>\n",
              "      <td>0.84</td>\n",
              "      <td>41.99</td>\n",
              "    </tr>\n",
              "    <tr>\n",
              "      <th>4</th>\n",
              "      <td>01/05/2011</td>\n",
              "      <td>0.99</td>\n",
              "      <td>42.28</td>\n",
              "    </tr>\n",
              "  </tbody>\n",
              "</table>\n",
              "</div>"
            ],
            "text/plain": [
              "         data  selic  endividamento\n",
              "0  01/01/2011   0.86          40.88\n",
              "1  01/02/2011   0.84          41.06\n",
              "2  01/03/2011   0.92          41.90\n",
              "3  01/04/2011   0.84          41.99\n",
              "4  01/05/2011   0.99          42.28"
            ]
          },
          "metadata": {
            "tags": []
          },
          "execution_count": 80
        }
      ]
    },
    {
      "cell_type": "markdown",
      "metadata": {
        "id": "Bz2AGc9PJlHC"
      },
      "source": [
        "### Como os valores das colunas 'selic' e 'endividamento' possuem grandezas diferentes, precisamos normaliza-las:"
      ]
    },
    {
      "cell_type": "code",
      "metadata": {
        "colab": {
          "base_uri": "https://localhost:8080/",
          "height": 419
        },
        "id": "DLb4-E-rHgVJ",
        "outputId": "576d90f1-1b2a-4304-b72f-183ae728bb4c"
      },
      "source": [
        "norm = preprocessing.normalize(merged.drop(['data'], axis=1), axis=0)\n",
        "df_norm = pd.DataFrame(norm, columns=['selic', 'endividamento'])\n",
        "df_norm"
      ],
      "execution_count": null,
      "outputs": [
        {
          "output_type": "execute_result",
          "data": {
            "text/html": [
              "<div>\n",
              "<style scoped>\n",
              "    .dataframe tbody tr th:only-of-type {\n",
              "        vertical-align: middle;\n",
              "    }\n",
              "\n",
              "    .dataframe tbody tr th {\n",
              "        vertical-align: top;\n",
              "    }\n",
              "\n",
              "    .dataframe thead th {\n",
              "        text-align: right;\n",
              "    }\n",
              "</style>\n",
              "<table border=\"1\" class=\"dataframe\">\n",
              "  <thead>\n",
              "    <tr style=\"text-align: right;\">\n",
              "      <th></th>\n",
              "      <th>selic</th>\n",
              "      <th>endividamento</th>\n",
              "    </tr>\n",
              "  </thead>\n",
              "  <tbody>\n",
              "    <tr>\n",
              "      <th>0</th>\n",
              "      <td>0.100731</td>\n",
              "      <td>0.078064</td>\n",
              "    </tr>\n",
              "    <tr>\n",
              "      <th>1</th>\n",
              "      <td>0.098389</td>\n",
              "      <td>0.078408</td>\n",
              "    </tr>\n",
              "    <tr>\n",
              "      <th>2</th>\n",
              "      <td>0.107759</td>\n",
              "      <td>0.080012</td>\n",
              "    </tr>\n",
              "    <tr>\n",
              "      <th>3</th>\n",
              "      <td>0.098389</td>\n",
              "      <td>0.080184</td>\n",
              "    </tr>\n",
              "    <tr>\n",
              "      <th>4</th>\n",
              "      <td>0.115958</td>\n",
              "      <td>0.080738</td>\n",
              "    </tr>\n",
              "    <tr>\n",
              "      <th>...</th>\n",
              "      <td>...</td>\n",
              "      <td>...</td>\n",
              "    </tr>\n",
              "    <tr>\n",
              "      <th>119</th>\n",
              "      <td>0.018741</td>\n",
              "      <td>0.107797</td>\n",
              "    </tr>\n",
              "    <tr>\n",
              "      <th>120</th>\n",
              "      <td>0.017569</td>\n",
              "      <td>0.108981</td>\n",
              "    </tr>\n",
              "    <tr>\n",
              "      <th>121</th>\n",
              "      <td>0.015227</td>\n",
              "      <td>0.109878</td>\n",
              "    </tr>\n",
              "    <tr>\n",
              "      <th>122</th>\n",
              "      <td>0.023426</td>\n",
              "      <td>0.110738</td>\n",
              "    </tr>\n",
              "    <tr>\n",
              "      <th>123</th>\n",
              "      <td>0.024597</td>\n",
              "      <td>0.111769</td>\n",
              "    </tr>\n",
              "  </tbody>\n",
              "</table>\n",
              "<p>124 rows × 2 columns</p>\n",
              "</div>"
            ],
            "text/plain": [
              "        selic  endividamento\n",
              "0    0.100731       0.078064\n",
              "1    0.098389       0.078408\n",
              "2    0.107759       0.080012\n",
              "3    0.098389       0.080184\n",
              "4    0.115958       0.080738\n",
              "..        ...            ...\n",
              "119  0.018741       0.107797\n",
              "120  0.017569       0.108981\n",
              "121  0.015227       0.109878\n",
              "122  0.023426       0.110738\n",
              "123  0.024597       0.111769\n",
              "\n",
              "[124 rows x 2 columns]"
            ]
          },
          "metadata": {
            "tags": []
          },
          "execution_count": 129
        }
      ]
    },
    {
      "cell_type": "markdown",
      "metadata": {
        "id": "IsjaVqmRJsLs"
      },
      "source": [
        "### Plotando o dataset em scatterplot para entender se existe alguma correlação.\n",
        "\n",
        "Como podemos ver, os dados não possuem uma correlação clara."
      ]
    },
    {
      "cell_type": "code",
      "metadata": {
        "colab": {
          "base_uri": "https://localhost:8080/",
          "height": 519
        },
        "id": "lp440CJYHR0E",
        "outputId": "cc9e506d-dbe2-4d6e-e3b0-7c6c3a6b0917"
      },
      "source": [
        "plt.figure(figsize=(10,8))\n",
        "sns.scatterplot(data=df_norm, x='endividamento', y='selic')"
      ],
      "execution_count": null,
      "outputs": [
        {
          "output_type": "execute_result",
          "data": {
            "text/plain": [
              "<matplotlib.axes._subplots.AxesSubplot at 0x7f22c57b5b10>"
            ]
          },
          "metadata": {
            "tags": []
          },
          "execution_count": 130
        },
        {
          "output_type": "display_data",
          "data": {
            "image/png": "[encoded data removed]",
            "text/plain": [
              "<Figure size 720x576 with 1 Axes>"
            ]
          },
          "metadata": {
            "tags": []
          }
        }
      ]
    },
    {
      "cell_type": "markdown",
      "metadata": {
        "id": "QckTK4y2KH3C"
      },
      "source": [
        "### Cálculo de correlação Pearson:\n"
      ]
    },
    {
      "cell_type": "code",
      "metadata": {
        "colab": {
          "base_uri": "https://localhost:8080/"
        },
        "id": "RLcFnSklJ9Qb",
        "outputId": "91df1c35-0d21-46ff-f6e6-45d1b4e48a08"
      },
      "source": [
        "correlacao_df = df_norm['selic'].corr(df_norm['endividamento'])\n",
        "print('A correlação entre selic e endividamento é:',correlacao_df)"
      ],
      "execution_count": null,
      "outputs": [
        {
          "output_type": "stream",
          "text": [
            "A correlação entre selic e endividamento é: -0.5071527656064703\n"
          ],
          "name": "stdout"
        }
      ]
    },
    {
      "cell_type": "markdown",
      "metadata": {
        "id": "SwXcmRZiMnZc"
      },
      "source": [
        "Conclusão: \n",
        "- Não existe uma relação linear entre SELIC e Endividamento. A correlação é considerada Moderada Negativa, de acordo com a classificação de Pearson.\n",
        "\n"
      ]
    },
    {
      "cell_type": "markdown",
      "metadata": {
        "id": "uymzxdRtNYTo"
      },
      "source": [
        "### Mesmo após o resultado demonstrado acima, realizei a mesma análise para o ano de 2020."
      ]
    },
    {
      "cell_type": "code",
      "metadata": {
        "colab": {
          "base_uri": "https://localhost:8080/"
        },
        "id": "Dpbw8FdeWeba",
        "outputId": "d6a367ea-3644-4fcd-9bf3-ce1923a7eb79"
      },
      "source": [
        "merged['data'].unique()"
      ],
      "execution_count": null,
      "outputs": [
        {
          "output_type": "execute_result",
          "data": {
            "text/plain": [
              "array(['2011-01-01T00:00:00.000000000', '2011-01-02T00:00:00.000000000',\n",
              "       '2011-01-03T00:00:00.000000000', '2011-01-04T00:00:00.000000000',\n",
              "       '2011-01-05T00:00:00.000000000', '2011-01-06T00:00:00.000000000',\n",
              "       '2011-01-07T00:00:00.000000000', '2011-01-08T00:00:00.000000000',\n",
              "       '2011-01-09T00:00:00.000000000', '2011-01-10T00:00:00.000000000',\n",
              "       '2011-01-11T00:00:00.000000000', '2011-01-12T00:00:00.000000000',\n",
              "       '2012-01-01T00:00:00.000000000', '2012-01-02T00:00:00.000000000',\n",
              "       '2012-01-03T00:00:00.000000000', '2012-01-04T00:00:00.000000000',\n",
              "       '2012-01-05T00:00:00.000000000', '2012-01-06T00:00:00.000000000',\n",
              "       '2012-01-07T00:00:00.000000000', '2012-01-08T00:00:00.000000000',\n",
              "       '2012-01-09T00:00:00.000000000', '2012-01-10T00:00:00.000000000',\n",
              "       '2012-01-11T00:00:00.000000000', '2012-01-12T00:00:00.000000000',\n",
              "       '2013-01-01T00:00:00.000000000', '2013-01-02T00:00:00.000000000',\n",
              "       '2013-01-03T00:00:00.000000000', '2013-01-04T00:00:00.000000000',\n",
              "       '2013-01-05T00:00:00.000000000', '2013-01-06T00:00:00.000000000',\n",
              "       '2013-01-07T00:00:00.000000000', '2013-01-08T00:00:00.000000000',\n",
              "       '2013-01-09T00:00:00.000000000', '2013-01-10T00:00:00.000000000',\n",
              "       '2013-01-11T00:00:00.000000000', '2013-01-12T00:00:00.000000000',\n",
              "       '2014-01-01T00:00:00.000000000', '2014-01-02T00:00:00.000000000',\n",
              "       '2014-01-03T00:00:00.000000000', '2014-01-04T00:00:00.000000000',\n",
              "       '2014-01-05T00:00:00.000000000', '2014-01-06T00:00:00.000000000',\n",
              "       '2014-01-07T00:00:00.000000000', '2014-01-08T00:00:00.000000000',\n",
              "       '2014-01-09T00:00:00.000000000', '2014-01-10T00:00:00.000000000',\n",
              "       '2014-01-11T00:00:00.000000000', '2014-01-12T00:00:00.000000000',\n",
              "       '2015-01-01T00:00:00.000000000', '2015-01-02T00:00:00.000000000',\n",
              "       '2015-01-03T00:00:00.000000000', '2015-01-04T00:00:00.000000000',\n",
              "       '2015-01-05T00:00:00.000000000', '2015-01-06T00:00:00.000000000',\n",
              "       '2015-01-07T00:00:00.000000000', '2015-01-08T00:00:00.000000000',\n",
              "       '2015-01-09T00:00:00.000000000', '2015-01-10T00:00:00.000000000',\n",
              "       '2015-01-11T00:00:00.000000000', '2015-01-12T00:00:00.000000000',\n",
              "       '2016-01-01T00:00:00.000000000', '2016-01-02T00:00:00.000000000',\n",
              "       '2016-01-03T00:00:00.000000000', '2016-01-04T00:00:00.000000000',\n",
              "       '2016-01-05T00:00:00.000000000', '2016-01-06T00:00:00.000000000',\n",
              "       '2016-01-07T00:00:00.000000000', '2016-01-08T00:00:00.000000000',\n",
              "       '2016-01-09T00:00:00.000000000', '2016-01-10T00:00:00.000000000',\n",
              "       '2016-01-11T00:00:00.000000000', '2016-01-12T00:00:00.000000000',\n",
              "       '2017-01-01T00:00:00.000000000', '2017-01-02T00:00:00.000000000',\n",
              "       '2017-01-03T00:00:00.000000000', '2017-01-04T00:00:00.000000000',\n",
              "       '2017-01-05T00:00:00.000000000', '2017-01-06T00:00:00.000000000',\n",
              "       '2017-01-07T00:00:00.000000000', '2017-01-08T00:00:00.000000000',\n",
              "       '2017-01-09T00:00:00.000000000', '2017-01-10T00:00:00.000000000',\n",
              "       '2017-01-11T00:00:00.000000000', '2017-01-12T00:00:00.000000000',\n",
              "       '2018-01-01T00:00:00.000000000', '2018-01-02T00:00:00.000000000',\n",
              "       '2018-01-03T00:00:00.000000000', '2018-01-04T00:00:00.000000000',\n",
              "       '2018-01-05T00:00:00.000000000', '2018-01-06T00:00:00.000000000',\n",
              "       '2018-01-07T00:00:00.000000000', '2018-01-08T00:00:00.000000000',\n",
              "       '2018-01-09T00:00:00.000000000', '2018-01-10T00:00:00.000000000',\n",
              "       '2018-01-11T00:00:00.000000000', '2018-01-12T00:00:00.000000000',\n",
              "       '2019-01-01T00:00:00.000000000', '2019-01-02T00:00:00.000000000',\n",
              "       '2019-01-03T00:00:00.000000000', '2019-01-04T00:00:00.000000000',\n",
              "       '2019-01-05T00:00:00.000000000', '2019-01-06T00:00:00.000000000',\n",
              "       '2019-01-07T00:00:00.000000000', '2019-01-08T00:00:00.000000000',\n",
              "       '2019-01-09T00:00:00.000000000', '2019-01-10T00:00:00.000000000',\n",
              "       '2019-01-11T00:00:00.000000000', '2019-01-12T00:00:00.000000000',\n",
              "       '2020-01-01T00:00:00.000000000', '2020-01-02T00:00:00.000000000',\n",
              "       '2020-01-03T00:00:00.000000000', '2020-01-04T00:00:00.000000000',\n",
              "       '2020-01-05T00:00:00.000000000', '2020-01-06T00:00:00.000000000',\n",
              "       '2020-01-07T00:00:00.000000000', '2020-01-08T00:00:00.000000000',\n",
              "       '2020-01-09T00:00:00.000000000', '2020-01-10T00:00:00.000000000',\n",
              "       '2020-01-11T00:00:00.000000000', '2020-01-12T00:00:00.000000000',\n",
              "       '2021-01-01T00:00:00.000000000', '2021-01-02T00:00:00.000000000',\n",
              "       '2021-01-03T00:00:00.000000000', '2021-01-04T00:00:00.000000000'],\n",
              "      dtype='datetime64[ns]')"
            ]
          },
          "metadata": {
            "tags": []
          },
          "execution_count": 83
        }
      ]
    },
    {
      "cell_type": "code",
      "metadata": {
        "id": "fouyuRjrW5As"
      },
      "source": [
        "merged['data'] = pd.to_datetime(merged['data'])"
      ],
      "execution_count": null,
      "outputs": []
    },
    {
      "cell_type": "code",
      "metadata": {
        "colab": {
          "base_uri": "https://localhost:8080/",
          "height": 421
        },
        "id": "PLctPfhwmF9t",
        "outputId": "14dcf8d8-d0c8-4c05-8a8c-64e223b07968"
      },
      "source": [
        "last_year = (merged['data'] >= '2020-1-1') & (merged['data'] <= '2020-12-1')\n",
        "last_year_date = merged.loc[last_year]\n",
        "last_year_date"
      ],
      "execution_count": null,
      "outputs": [
        {
          "output_type": "execute_result",
          "data": {
            "text/html": [
              "<div>\n",
              "<style scoped>\n",
              "    .dataframe tbody tr th:only-of-type {\n",
              "        vertical-align: middle;\n",
              "    }\n",
              "\n",
              "    .dataframe tbody tr th {\n",
              "        vertical-align: top;\n",
              "    }\n",
              "\n",
              "    .dataframe thead th {\n",
              "        text-align: right;\n",
              "    }\n",
              "</style>\n",
              "<table border=\"1\" class=\"dataframe\">\n",
              "  <thead>\n",
              "    <tr style=\"text-align: right;\">\n",
              "      <th></th>\n",
              "      <th>data</th>\n",
              "      <th>selic</th>\n",
              "      <th>endividamento</th>\n",
              "    </tr>\n",
              "  </thead>\n",
              "  <tbody>\n",
              "    <tr>\n",
              "      <th>108</th>\n",
              "      <td>2020-01-01</td>\n",
              "      <td>0.38</td>\n",
              "      <td>48.91</td>\n",
              "    </tr>\n",
              "    <tr>\n",
              "      <th>109</th>\n",
              "      <td>2020-01-02</td>\n",
              "      <td>0.29</td>\n",
              "      <td>49.05</td>\n",
              "    </tr>\n",
              "    <tr>\n",
              "      <th>110</th>\n",
              "      <td>2020-01-03</td>\n",
              "      <td>0.34</td>\n",
              "      <td>49.40</td>\n",
              "    </tr>\n",
              "    <tr>\n",
              "      <th>111</th>\n",
              "      <td>2020-01-04</td>\n",
              "      <td>0.28</td>\n",
              "      <td>49.18</td>\n",
              "    </tr>\n",
              "    <tr>\n",
              "      <th>112</th>\n",
              "      <td>2020-01-05</td>\n",
              "      <td>0.24</td>\n",
              "      <td>49.21</td>\n",
              "    </tr>\n",
              "    <tr>\n",
              "      <th>113</th>\n",
              "      <td>2020-01-06</td>\n",
              "      <td>0.21</td>\n",
              "      <td>49.38</td>\n",
              "    </tr>\n",
              "    <tr>\n",
              "      <th>114</th>\n",
              "      <td>2020-01-07</td>\n",
              "      <td>0.19</td>\n",
              "      <td>50.18</td>\n",
              "    </tr>\n",
              "    <tr>\n",
              "      <th>115</th>\n",
              "      <td>2020-01-08</td>\n",
              "      <td>0.16</td>\n",
              "      <td>51.11</td>\n",
              "    </tr>\n",
              "    <tr>\n",
              "      <th>116</th>\n",
              "      <td>2020-01-09</td>\n",
              "      <td>0.16</td>\n",
              "      <td>52.22</td>\n",
              "    </tr>\n",
              "    <tr>\n",
              "      <th>117</th>\n",
              "      <td>2020-01-10</td>\n",
              "      <td>0.16</td>\n",
              "      <td>53.39</td>\n",
              "    </tr>\n",
              "    <tr>\n",
              "      <th>118</th>\n",
              "      <td>2020-01-11</td>\n",
              "      <td>0.15</td>\n",
              "      <td>54.99</td>\n",
              "    </tr>\n",
              "    <tr>\n",
              "      <th>119</th>\n",
              "      <td>2020-01-12</td>\n",
              "      <td>0.16</td>\n",
              "      <td>56.45</td>\n",
              "    </tr>\n",
              "  </tbody>\n",
              "</table>\n",
              "</div>"
            ],
            "text/plain": [
              "          data  selic  endividamento\n",
              "108 2020-01-01   0.38          48.91\n",
              "109 2020-01-02   0.29          49.05\n",
              "110 2020-01-03   0.34          49.40\n",
              "111 2020-01-04   0.28          49.18\n",
              "112 2020-01-05   0.24          49.21\n",
              "113 2020-01-06   0.21          49.38\n",
              "114 2020-01-07   0.19          50.18\n",
              "115 2020-01-08   0.16          51.11\n",
              "116 2020-01-09   0.16          52.22\n",
              "117 2020-01-10   0.16          53.39\n",
              "118 2020-01-11   0.15          54.99\n",
              "119 2020-01-12   0.16          56.45"
            ]
          },
          "metadata": {
            "tags": []
          },
          "execution_count": 84
        }
      ]
    },
    {
      "cell_type": "code",
      "metadata": {
        "colab": {
          "base_uri": "https://localhost:8080/",
          "height": 421
        },
        "id": "-6W9wdmY4GV4",
        "outputId": "32c0e04f-bbea-4f5f-96f6-fbd6203eba48"
      },
      "source": [
        "d = preprocessing.normalize(last_year_date.drop(['data'], axis=1), axis=0)\n",
        "scaled_df = pd.DataFrame(d, columns=['selic', 'endividamento'])\n",
        "scaled_df['data'] = ['2020-01', '2020-02',\n",
        "       '2020-03', '2020-04',\n",
        "       '2020-05', '2020-06',\n",
        "       '2020-07', '2020-08',\n",
        "       '2020-09', '2020-10',\n",
        "       '2020-11', '2020-12']\n",
        "scaled_df"
      ],
      "execution_count": null,
      "outputs": [
        {
          "output_type": "execute_result",
          "data": {
            "text/html": [
              "<div>\n",
              "<style scoped>\n",
              "    .dataframe tbody tr th:only-of-type {\n",
              "        vertical-align: middle;\n",
              "    }\n",
              "\n",
              "    .dataframe tbody tr th {\n",
              "        vertical-align: top;\n",
              "    }\n",
              "\n",
              "    .dataframe thead th {\n",
              "        text-align: right;\n",
              "    }\n",
              "</style>\n",
              "<table border=\"1\" class=\"dataframe\">\n",
              "  <thead>\n",
              "    <tr style=\"text-align: right;\">\n",
              "      <th></th>\n",
              "      <th>selic</th>\n",
              "      <th>endividamento</th>\n",
              "      <th>data</th>\n",
              "    </tr>\n",
              "  </thead>\n",
              "  <tbody>\n",
              "    <tr>\n",
              "      <th>0</th>\n",
              "      <td>0.459066</td>\n",
              "      <td>0.275860</td>\n",
              "      <td>2020-01</td>\n",
              "    </tr>\n",
              "    <tr>\n",
              "      <th>1</th>\n",
              "      <td>0.350340</td>\n",
              "      <td>0.276650</td>\n",
              "      <td>2020-02</td>\n",
              "    </tr>\n",
              "    <tr>\n",
              "      <th>2</th>\n",
              "      <td>0.410743</td>\n",
              "      <td>0.278624</td>\n",
              "      <td>2020-03</td>\n",
              "    </tr>\n",
              "    <tr>\n",
              "      <th>3</th>\n",
              "      <td>0.338259</td>\n",
              "      <td>0.277383</td>\n",
              "      <td>2020-04</td>\n",
              "    </tr>\n",
              "    <tr>\n",
              "      <th>4</th>\n",
              "      <td>0.289936</td>\n",
              "      <td>0.277552</td>\n",
              "      <td>2020-05</td>\n",
              "    </tr>\n",
              "    <tr>\n",
              "      <th>5</th>\n",
              "      <td>0.253694</td>\n",
              "      <td>0.278511</td>\n",
              "      <td>2020-06</td>\n",
              "    </tr>\n",
              "    <tr>\n",
              "      <th>6</th>\n",
              "      <td>0.229533</td>\n",
              "      <td>0.283023</td>\n",
              "      <td>2020-07</td>\n",
              "    </tr>\n",
              "    <tr>\n",
              "      <th>7</th>\n",
              "      <td>0.193291</td>\n",
              "      <td>0.288268</td>\n",
              "      <td>2020-08</td>\n",
              "    </tr>\n",
              "    <tr>\n",
              "      <th>8</th>\n",
              "      <td>0.193291</td>\n",
              "      <td>0.294529</td>\n",
              "      <td>2020-09</td>\n",
              "    </tr>\n",
              "    <tr>\n",
              "      <th>9</th>\n",
              "      <td>0.193291</td>\n",
              "      <td>0.301128</td>\n",
              "      <td>2020-10</td>\n",
              "    </tr>\n",
              "    <tr>\n",
              "      <th>10</th>\n",
              "      <td>0.181210</td>\n",
              "      <td>0.310152</td>\n",
              "      <td>2020-11</td>\n",
              "    </tr>\n",
              "    <tr>\n",
              "      <th>11</th>\n",
              "      <td>0.193291</td>\n",
              "      <td>0.318387</td>\n",
              "      <td>2020-12</td>\n",
              "    </tr>\n",
              "  </tbody>\n",
              "</table>\n",
              "</div>"
            ],
            "text/plain": [
              "       selic  endividamento     data\n",
              "0   0.459066       0.275860  2020-01\n",
              "1   0.350340       0.276650  2020-02\n",
              "2   0.410743       0.278624  2020-03\n",
              "3   0.338259       0.277383  2020-04\n",
              "4   0.289936       0.277552  2020-05\n",
              "5   0.253694       0.278511  2020-06\n",
              "6   0.229533       0.283023  2020-07\n",
              "7   0.193291       0.288268  2020-08\n",
              "8   0.193291       0.294529  2020-09\n",
              "9   0.193291       0.301128  2020-10\n",
              "10  0.181210       0.310152  2020-11\n",
              "11  0.193291       0.318387  2020-12"
            ]
          },
          "metadata": {
            "tags": []
          },
          "execution_count": 108
        }
      ]
    },
    {
      "cell_type": "code",
      "metadata": {
        "colab": {
          "base_uri": "https://localhost:8080/",
          "height": 519
        },
        "id": "Q5cXP2SpGlps",
        "outputId": "4b059e51-4d1c-466f-86aa-e8d646ca7ee2"
      },
      "source": [
        "plt.figure(figsize=(10,8))\n",
        "sns.scatterplot(data=scaled_df, x='endividamento', y='selic')"
      ],
      "execution_count": null,
      "outputs": [
        {
          "output_type": "execute_result",
          "data": {
            "text/plain": [
              "<matplotlib.axes._subplots.AxesSubplot at 0x7f22c5fe6ed0>"
            ]
          },
          "metadata": {
            "tags": []
          },
          "execution_count": 127
        },
        {
          "output_type": "display_data",
          "data": {
            "image/png": "[encoded data removed]",
            "text/plain": [
              "<Figure size 720x576 with 1 Axes>"
            ]
          },
          "metadata": {
            "tags": []
          }
        }
      ]
    },
    {
      "cell_type": "code",
      "metadata": {
        "colab": {
          "base_uri": "https://localhost:8080/",
          "height": 519
        },
        "id": "MiqqR1qeQADm",
        "outputId": "409966db-e503-4cce-b33f-785966b6a4d8"
      },
      "source": [
        "plt.figure(figsize=[10, 8])\n",
        "sns.lineplot(data=scaled_df, x='data', y='endividamento')\n",
        "sns.lineplot(data=scaled_df, x='data', y='selic')"
      ],
      "execution_count": null,
      "outputs": [
        {
          "output_type": "execute_result",
          "data": {
            "text/plain": [
              "<matplotlib.axes._subplots.AxesSubplot at 0x7f22c5bca310>"
            ]
          },
          "metadata": {
            "tags": []
          },
          "execution_count": 112
        },
        {
          "output_type": "display_data",
          "data": {
            "image/png": "[encoded data removed]",
            "text/plain": [
              "<Figure size 720x576 with 1 Axes>"
            ]
          },
          "metadata": {
            "tags": []
          }
        }
      ]
    },
    {
      "cell_type": "code",
      "metadata": {
        "colab": {
          "base_uri": "https://localhost:8080/",
          "height": 303
        },
        "id": "dIhASMMxB7_o",
        "outputId": "34d2a8d6-02dc-43e0-d9aa-5af4f0f53143"
      },
      "source": [
        "sns.lineplot(data=scaled_df, x='data', y='endividamento')"
      ],
      "execution_count": null,
      "outputs": [
        {
          "output_type": "execute_result",
          "data": {
            "text/plain": [
              "<matplotlib.axes._subplots.AxesSubplot at 0x7f22c5ab3310>"
            ]
          },
          "metadata": {
            "tags": []
          },
          "execution_count": 114
        },
        {
          "output_type": "display_data",
          "data": {
            "image/png": "[encoded data removed]",
            "text/plain": [
              "<Figure size 432x288 with 1 Axes>"
            ]
          },
          "metadata": {
            "tags": []
          }
        }
      ]
    },
    {
      "cell_type": "code",
      "metadata": {
        "colab": {
          "base_uri": "https://localhost:8080/",
          "height": 302
        },
        "id": "i4WATbDGBU2q",
        "outputId": "0d1bcb3e-e8d9-46af-ee7d-35b7c98399fa"
      },
      "source": [
        "sns.lineplot(data=scaled_df, x='data', y='selic')"
      ],
      "execution_count": null,
      "outputs": [
        {
          "output_type": "execute_result",
          "data": {
            "text/plain": [
              "<matplotlib.axes._subplots.AxesSubplot at 0x7f22c5ba5150>"
            ]
          },
          "metadata": {
            "tags": []
          },
          "execution_count": 113
        },
        {
          "output_type": "display_data",
          "data": {
            "image/png": "[encoded data removed]",
            "text/plain": [
              "<Figure size 432x288 with 1 Axes>"
            ]
          },
          "metadata": {
            "tags": []
          }
        }
      ]
    },
    {
      "cell_type": "code",
      "metadata": {
        "colab": {
          "base_uri": "https://localhost:8080/"
        },
        "id": "kJwDQBERCdfn",
        "outputId": "cf3ea394-e412-4ccb-e519-20691918e6c9"
      },
      "source": [
        "correlacao = scaled_df['selic'].corr(scaled_df['endividamento'])\n",
        "print('A correlação entre selic e endividamento é:',correlacao)"
      ],
      "execution_count": null,
      "outputs": [
        {
          "output_type": "stream",
          "text": [
            "A correlação entre selic e endividamento é: -0.7165195829694518\n"
          ],
          "name": "stdout"
        }
      ]
    },
    {
      "cell_type": "markdown",
      "metadata": {
        "id": "cWEpoVv_Ngwr"
      },
      "source": [
        "### Conclusão: Da mesma forma que o dado completo, o ano de 2020 não apresenta nenhuma correlação. "
      ]
    },
    {
      "cell_type": "markdown",
      "metadata": {
        "id": "OoyPED7FNoeQ"
      },
      "source": [
        "## Conclusão Final: Como não existe uma correlação entre as variáveis, não poderei aplicar o modelo de Regressão Linear."
      ]
    }
  ]
}